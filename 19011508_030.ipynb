{
  "nbformat": 4,
  "nbformat_minor": 0,
  "metadata": {
    "colab": {
      "name": "19011508-030",
      "provenance": [],
      "collapsed_sections": []
    },
    "kernelspec": {
      "name": "python3",
      "display_name": "Python 3"
    },
    "language_info": {
      "name": "python"
    }
  },
  "cells": [
    {
      "cell_type": "code",
      "metadata": {
        "colab": {
          "base_uri": "https://localhost:8080/"
        },
        "id": "YkjQ4NR1gQDp",
        "outputId": "5115cd77-a4f3-4232-ca4b-778a48e41bc9"
      },
      "source": [
        "values = input(\"Input some comma seprated numbers : \")\n",
        "list = values.split(\",\")\n",
        "tuple = tuple(list)\n",
        "print('List1 : ',list)\n",
        "print('Tuple : ',tuple)"
      ],
      "execution_count": 1,
      "outputs": [
        {
          "output_type": "stream",
          "text": [
            "Input some comma seprated numbers : 1,2,3,4\n",
            "List1 :  ['1', '2', '3', '4']\n",
            "Tuple :  ('1', '2', '3', '4')\n"
          ],
          "name": "stdout"
        }
      ]
    },
    {
      "cell_type": "code",
      "metadata": {
        "colab": {
          "base_uri": "https://localhost:8080/"
        },
        "id": "kADl1_oahSeg",
        "outputId": "87a9b474-00ea-42ca-82a6-427647c47a23"
      },
      "source": [
        "def remove_nums(int_list):\n",
        "  #list starts with 0 index\n",
        "  position = 3 - 1 \n",
        "  idx = 0\n",
        "  len_list = (len(int_list))\n",
        "  while len_list>0:\n",
        "    idx = (position+idx)%len_list\n",
        "    print(int_list.pop(idx))\n",
        "    len_list -= 1\n",
        "nums = [23,20,21,30,40,50,70,80,90]\n",
        "remove_nums(nums)"
      ],
      "execution_count": null,
      "outputs": [
        {
          "output_type": "stream",
          "text": [
            "21\n",
            "50\n",
            "90\n",
            "30\n",
            "80\n",
            "40\n",
            "20\n",
            "70\n",
            "23\n"
          ],
          "name": "stdout"
        }
      ]
    },
    {
      "cell_type": "code",
      "metadata": {
        "colab": {
          "base_uri": "https://localhost:8080/"
        },
        "id": "-eLHBjd4z2lV",
        "outputId": "158ec822-1d15-4ab8-bbff-b1c238e5d2a1"
      },
      "source": [
        "def test_distinct(data):\n",
        "  if len(data) == len(set(data)):\n",
        "    return True\n",
        "  else:\n",
        "    return False;\n",
        "print(test_distinct([1,2,3,8]))\n",
        "print(test_distinct([2,4,3,3,9,1]))"
      ],
      "execution_count": null,
      "outputs": [
        {
          "output_type": "stream",
          "text": [
            "True\n",
            "False\n"
          ],
          "name": "stdout"
        }
      ]
    },
    {
      "cell_type": "code",
      "metadata": {
        "colab": {
          "base_uri": "https://localhost:8080/"
        },
        "id": "bv8HdrpT0TQO",
        "outputId": "2d6316f4-15dd-4d4e-db24-9d4d6e2eb837"
      },
      "source": [
        "pi= 3.14\n",
        "r = float(input (\"input the radius of the circle:\"))\n",
        "area= pi*r*r\n",
        "print(\"the area of the circle with radius \" +str(r) + \"is:%.2f\"%area)"
      ],
      "execution_count": null,
      "outputs": [
        {
          "output_type": "stream",
          "text": [
            "input the radius of the circle: 4\n",
            "the area of the circle with radius 4.0is:50.24\n"
          ],
          "name": "stdout"
        }
      ]
    }
  ]
}